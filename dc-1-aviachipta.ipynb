{
 "cells": [
  {
   "cell_type": "code",
   "execution_count": 1,
   "id": "1054b4ca",
   "metadata": {
    "_cell_guid": "b1076dfc-b9ad-4769-8c92-a6c4dae69d19",
    "_uuid": "8f2839f25d086af736a60e9eeb907d3b93b6e0e5",
    "execution": {
     "iopub.execute_input": "2023-05-14T07:34:52.311614Z",
     "iopub.status.busy": "2023-05-14T07:34:52.311082Z",
     "iopub.status.idle": "2023-05-14T07:34:52.330803Z",
     "shell.execute_reply": "2023-05-14T07:34:52.329417Z"
    },
    "papermill": {
     "duration": 0.031406,
     "end_time": "2023-05-14T07:34:52.333208",
     "exception": false,
     "start_time": "2023-05-14T07:34:52.301802",
     "status": "completed"
    },
    "tags": []
   },
   "outputs": [
    {
     "name": "stdout",
     "output_type": "stream",
     "text": [
      "/kaggle/input/aviachipta-narxini-bashorat-qilish/train_data.csv\n",
      "/kaggle/input/aviachipta-narxini-bashorat-qilish/test_data.csv\n",
      "/kaggle/input/aviachipta-narxini-bashorat-qilish/sample_solution.csv\n"
     ]
    }
   ],
   "source": [
    "# This Python 3 environment comes with many helpful analytics libraries installed\n",
    "# It is defined by the kaggle/python Docker image: https://github.com/kaggle/docker-python\n",
    "# For example, here's several helpful packages to load\n",
    "\n",
    "import numpy as np # linear algebra\n",
    "import pandas as pd # data processing, CSV file I/O (e.g. pd.read_csv)\n",
    "\n",
    "# Input data files are available in the read-only \"../input/\" directory\n",
    "# For example, running this (by clicking run or pressing Shift+Enter) will list all files under the input directory\n",
    "\n",
    "import os\n",
    "for dirname, _, filenames in os.walk('/kaggle/input'):\n",
    "    for filename in filenames:\n",
    "        print(os.path.join(dirname, filename))\n",
    "\n",
    "# You can write up to 20GB to the current directory (/kaggle/working/) that gets preserved as output when you create a version using \"Save & Run All\" \n",
    "# You can also write temporary files to /kaggle/temp/, but they won't be saved outside of the current session"
   ]
  },
  {
   "cell_type": "code",
   "execution_count": 2,
   "id": "8509e268",
   "metadata": {
    "execution": {
     "iopub.execute_input": "2023-05-14T07:34:52.347563Z",
     "iopub.status.busy": "2023-05-14T07:34:52.346724Z",
     "iopub.status.idle": "2023-05-14T07:34:54.149596Z",
     "shell.execute_reply": "2023-05-14T07:34:54.148402Z"
    },
    "papermill": {
     "duration": 1.812917,
     "end_time": "2023-05-14T07:34:54.152589",
     "exception": false,
     "start_time": "2023-05-14T07:34:52.339672",
     "status": "completed"
    },
    "tags": []
   },
   "outputs": [],
   "source": [
    "import numpy as np\n",
    "import pandas as pd\n",
    "\n",
    "import matplotlib.pyplot as plt\n",
    "%matplotlib inline\n",
    "import seaborn as sns\n",
    "\n",
    "from sklearn import model_selection\n",
    "from sklearn.preprocessing import OrdinalEncoder\n",
    "from sklearn.model_selection import train_test_split\n",
    "from sklearn.ensemble import RandomForestRegressor\n",
    "from sklearn.metrics import mean_squared_error\n",
    "from xgboost import XGBRegressor"
   ]
  },
  {
   "cell_type": "code",
   "execution_count": 3,
   "id": "2f5b7552",
   "metadata": {
    "execution": {
     "iopub.execute_input": "2023-05-14T07:34:54.167806Z",
     "iopub.status.busy": "2023-05-14T07:34:54.166991Z",
     "iopub.status.idle": "2023-05-14T07:34:54.268415Z",
     "shell.execute_reply": "2023-05-14T07:34:54.267253Z"
    },
    "papermill": {
     "duration": 0.111788,
     "end_time": "2023-05-14T07:34:54.271389",
     "exception": false,
     "start_time": "2023-05-14T07:34:54.159601",
     "status": "completed"
    },
    "tags": []
   },
   "outputs": [
    {
     "data": {
      "text/html": [
       "<div>\n",
       "<style scoped>\n",
       "    .dataframe tbody tr th:only-of-type {\n",
       "        vertical-align: middle;\n",
       "    }\n",
       "\n",
       "    .dataframe tbody tr th {\n",
       "        vertical-align: top;\n",
       "    }\n",
       "\n",
       "    .dataframe thead th {\n",
       "        text-align: right;\n",
       "    }\n",
       "</style>\n",
       "<table border=\"1\" class=\"dataframe\">\n",
       "  <thead>\n",
       "    <tr style=\"text-align: right;\">\n",
       "      <th></th>\n",
       "      <th>id</th>\n",
       "      <th>airline</th>\n",
       "      <th>flight</th>\n",
       "      <th>source_city</th>\n",
       "      <th>departure_time</th>\n",
       "      <th>stops</th>\n",
       "      <th>arrival_time</th>\n",
       "      <th>destination_city</th>\n",
       "      <th>class</th>\n",
       "      <th>duration</th>\n",
       "      <th>days_left</th>\n",
       "      <th>price</th>\n",
       "    </tr>\n",
       "  </thead>\n",
       "  <tbody>\n",
       "    <tr>\n",
       "      <th>0</th>\n",
       "      <td>1</td>\n",
       "      <td>Vistara</td>\n",
       "      <td>UK-810</td>\n",
       "      <td>Bangalore</td>\n",
       "      <td>Early_Morning</td>\n",
       "      <td>one</td>\n",
       "      <td>Night</td>\n",
       "      <td>Mumbai</td>\n",
       "      <td>Economy</td>\n",
       "      <td>14.25</td>\n",
       "      <td>21</td>\n",
       "      <td>7212</td>\n",
       "    </tr>\n",
       "    <tr>\n",
       "      <th>1</th>\n",
       "      <td>2</td>\n",
       "      <td>SpiceJet</td>\n",
       "      <td>SG-5094</td>\n",
       "      <td>Hyderabad</td>\n",
       "      <td>Evening</td>\n",
       "      <td>zero</td>\n",
       "      <td>Night</td>\n",
       "      <td>Kolkata</td>\n",
       "      <td>Economy</td>\n",
       "      <td>1.75</td>\n",
       "      <td>7</td>\n",
       "      <td>5292</td>\n",
       "    </tr>\n",
       "    <tr>\n",
       "      <th>2</th>\n",
       "      <td>3</td>\n",
       "      <td>Vistara</td>\n",
       "      <td>UK-846</td>\n",
       "      <td>Bangalore</td>\n",
       "      <td>Morning</td>\n",
       "      <td>one</td>\n",
       "      <td>Evening</td>\n",
       "      <td>Delhi</td>\n",
       "      <td>Business</td>\n",
       "      <td>9.58</td>\n",
       "      <td>5</td>\n",
       "      <td>60553</td>\n",
       "    </tr>\n",
       "    <tr>\n",
       "      <th>3</th>\n",
       "      <td>4</td>\n",
       "      <td>Vistara</td>\n",
       "      <td>UK-706</td>\n",
       "      <td>Kolkata</td>\n",
       "      <td>Morning</td>\n",
       "      <td>one</td>\n",
       "      <td>Evening</td>\n",
       "      <td>Hyderabad</td>\n",
       "      <td>Economy</td>\n",
       "      <td>6.75</td>\n",
       "      <td>28</td>\n",
       "      <td>5760</td>\n",
       "    </tr>\n",
       "    <tr>\n",
       "      <th>4</th>\n",
       "      <td>5</td>\n",
       "      <td>Indigo</td>\n",
       "      <td>6E-5394</td>\n",
       "      <td>Chennai</td>\n",
       "      <td>Early_Morning</td>\n",
       "      <td>zero</td>\n",
       "      <td>Morning</td>\n",
       "      <td>Mumbai</td>\n",
       "      <td>Economy</td>\n",
       "      <td>2.00</td>\n",
       "      <td>4</td>\n",
       "      <td>10712</td>\n",
       "    </tr>\n",
       "  </tbody>\n",
       "</table>\n",
       "</div>"
      ],
      "text/plain": [
       "   id   airline   flight source_city departure_time stops arrival_time  \\\n",
       "0   1   Vistara   UK-810   Bangalore  Early_Morning   one        Night   \n",
       "1   2  SpiceJet  SG-5094   Hyderabad        Evening  zero        Night   \n",
       "2   3   Vistara   UK-846   Bangalore        Morning   one      Evening   \n",
       "3   4   Vistara   UK-706     Kolkata        Morning   one      Evening   \n",
       "4   5    Indigo  6E-5394     Chennai  Early_Morning  zero      Morning   \n",
       "\n",
       "  destination_city     class  duration  days_left  price  \n",
       "0           Mumbai   Economy     14.25         21   7212  \n",
       "1          Kolkata   Economy      1.75          7   5292  \n",
       "2            Delhi  Business      9.58          5  60553  \n",
       "3        Hyderabad   Economy      6.75         28   5760  \n",
       "4           Mumbai   Economy      2.00          4  10712  "
      ]
     },
     "execution_count": 3,
     "metadata": {},
     "output_type": "execute_result"
    }
   ],
   "source": [
    "train = pd.read_csv('/kaggle/input/aviachipta-narxini-bashorat-qilish/train_data.csv')\n",
    "train.head()"
   ]
  },
  {
   "cell_type": "code",
   "execution_count": 4,
   "id": "f9ff23c7",
   "metadata": {
    "execution": {
     "iopub.execute_input": "2023-05-14T07:34:54.286305Z",
     "iopub.status.busy": "2023-05-14T07:34:54.285979Z",
     "iopub.status.idle": "2023-05-14T07:34:54.325326Z",
     "shell.execute_reply": "2023-05-14T07:34:54.323985Z"
    },
    "papermill": {
     "duration": 0.04972,
     "end_time": "2023-05-14T07:34:54.328103",
     "exception": false,
     "start_time": "2023-05-14T07:34:54.278383",
     "status": "completed"
    },
    "tags": []
   },
   "outputs": [
    {
     "data": {
      "text/html": [
       "<div>\n",
       "<style scoped>\n",
       "    .dataframe tbody tr th:only-of-type {\n",
       "        vertical-align: middle;\n",
       "    }\n",
       "\n",
       "    .dataframe tbody tr th {\n",
       "        vertical-align: top;\n",
       "    }\n",
       "\n",
       "    .dataframe thead th {\n",
       "        text-align: right;\n",
       "    }\n",
       "</style>\n",
       "<table border=\"1\" class=\"dataframe\">\n",
       "  <thead>\n",
       "    <tr style=\"text-align: right;\">\n",
       "      <th></th>\n",
       "      <th>id</th>\n",
       "      <th>airline</th>\n",
       "      <th>flight</th>\n",
       "      <th>source_city</th>\n",
       "      <th>departure_time</th>\n",
       "      <th>stops</th>\n",
       "      <th>arrival_time</th>\n",
       "      <th>destination_city</th>\n",
       "      <th>class</th>\n",
       "      <th>duration</th>\n",
       "      <th>days_left</th>\n",
       "    </tr>\n",
       "  </thead>\n",
       "  <tbody>\n",
       "    <tr>\n",
       "      <th>0</th>\n",
       "      <td>1</td>\n",
       "      <td>Air_India</td>\n",
       "      <td>AI-765</td>\n",
       "      <td>Kolkata</td>\n",
       "      <td>Evening</td>\n",
       "      <td>one</td>\n",
       "      <td>Night</td>\n",
       "      <td>Delhi</td>\n",
       "      <td>Business</td>\n",
       "      <td>28.25</td>\n",
       "      <td>2</td>\n",
       "    </tr>\n",
       "    <tr>\n",
       "      <th>1</th>\n",
       "      <td>2</td>\n",
       "      <td>Vistara</td>\n",
       "      <td>UK-747</td>\n",
       "      <td>Delhi</td>\n",
       "      <td>Early_Morning</td>\n",
       "      <td>one</td>\n",
       "      <td>Night</td>\n",
       "      <td>Mumbai</td>\n",
       "      <td>Business</td>\n",
       "      <td>13.83</td>\n",
       "      <td>34</td>\n",
       "    </tr>\n",
       "    <tr>\n",
       "      <th>2</th>\n",
       "      <td>3</td>\n",
       "      <td>Air_India</td>\n",
       "      <td>AI-570</td>\n",
       "      <td>Mumbai</td>\n",
       "      <td>Early_Morning</td>\n",
       "      <td>zero</td>\n",
       "      <td>Early_Morning</td>\n",
       "      <td>Chennai</td>\n",
       "      <td>Business</td>\n",
       "      <td>2.00</td>\n",
       "      <td>30</td>\n",
       "    </tr>\n",
       "    <tr>\n",
       "      <th>3</th>\n",
       "      <td>4</td>\n",
       "      <td>AirAsia</td>\n",
       "      <td>I5-974</td>\n",
       "      <td>Hyderabad</td>\n",
       "      <td>Night</td>\n",
       "      <td>one</td>\n",
       "      <td>Late_Night</td>\n",
       "      <td>Delhi</td>\n",
       "      <td>Economy</td>\n",
       "      <td>5.17</td>\n",
       "      <td>26</td>\n",
       "    </tr>\n",
       "    <tr>\n",
       "      <th>4</th>\n",
       "      <td>5</td>\n",
       "      <td>Air_India</td>\n",
       "      <td>AI-770</td>\n",
       "      <td>Kolkata</td>\n",
       "      <td>Night</td>\n",
       "      <td>one</td>\n",
       "      <td>Afternoon</td>\n",
       "      <td>Mumbai</td>\n",
       "      <td>Economy</td>\n",
       "      <td>16.33</td>\n",
       "      <td>35</td>\n",
       "    </tr>\n",
       "  </tbody>\n",
       "</table>\n",
       "</div>"
      ],
      "text/plain": [
       "   id    airline  flight source_city departure_time stops   arrival_time  \\\n",
       "0   1  Air_India  AI-765     Kolkata        Evening   one          Night   \n",
       "1   2    Vistara  UK-747       Delhi  Early_Morning   one          Night   \n",
       "2   3  Air_India  AI-570      Mumbai  Early_Morning  zero  Early_Morning   \n",
       "3   4    AirAsia  I5-974   Hyderabad          Night   one     Late_Night   \n",
       "4   5  Air_India  AI-770     Kolkata          Night   one      Afternoon   \n",
       "\n",
       "  destination_city     class  duration  days_left  \n",
       "0            Delhi  Business     28.25          2  \n",
       "1           Mumbai  Business     13.83         34  \n",
       "2          Chennai  Business      2.00         30  \n",
       "3            Delhi   Economy      5.17         26  \n",
       "4           Mumbai   Economy     16.33         35  "
      ]
     },
     "execution_count": 4,
     "metadata": {},
     "output_type": "execute_result"
    }
   ],
   "source": [
    "test = pd.read_csv('/kaggle/input/aviachipta-narxini-bashorat-qilish/test_data.csv')\n",
    "test.head()"
   ]
  },
  {
   "cell_type": "code",
   "execution_count": 5,
   "id": "cf1051dd",
   "metadata": {
    "execution": {
     "iopub.execute_input": "2023-05-14T07:34:54.344513Z",
     "iopub.status.busy": "2023-05-14T07:34:54.343642Z",
     "iopub.status.idle": "2023-05-14T07:34:54.363183Z",
     "shell.execute_reply": "2023-05-14T07:34:54.362051Z"
    },
    "papermill": {
     "duration": 0.030029,
     "end_time": "2023-05-14T07:34:54.365662",
     "exception": false,
     "start_time": "2023-05-14T07:34:54.335633",
     "status": "completed"
    },
    "tags": []
   },
   "outputs": [
    {
     "data": {
      "text/html": [
       "<div>\n",
       "<style scoped>\n",
       "    .dataframe tbody tr th:only-of-type {\n",
       "        vertical-align: middle;\n",
       "    }\n",
       "\n",
       "    .dataframe tbody tr th {\n",
       "        vertical-align: top;\n",
       "    }\n",
       "\n",
       "    .dataframe thead th {\n",
       "        text-align: right;\n",
       "    }\n",
       "</style>\n",
       "<table border=\"1\" class=\"dataframe\">\n",
       "  <thead>\n",
       "    <tr style=\"text-align: right;\">\n",
       "      <th></th>\n",
       "      <th>id</th>\n",
       "      <th>price</th>\n",
       "    </tr>\n",
       "  </thead>\n",
       "  <tbody>\n",
       "    <tr>\n",
       "      <th>0</th>\n",
       "      <td>1</td>\n",
       "      <td>0</td>\n",
       "    </tr>\n",
       "    <tr>\n",
       "      <th>1</th>\n",
       "      <td>2</td>\n",
       "      <td>0</td>\n",
       "    </tr>\n",
       "    <tr>\n",
       "      <th>2</th>\n",
       "      <td>3</td>\n",
       "      <td>0</td>\n",
       "    </tr>\n",
       "    <tr>\n",
       "      <th>3</th>\n",
       "      <td>4</td>\n",
       "      <td>0</td>\n",
       "    </tr>\n",
       "    <tr>\n",
       "      <th>4</th>\n",
       "      <td>5</td>\n",
       "      <td>0</td>\n",
       "    </tr>\n",
       "  </tbody>\n",
       "</table>\n",
       "</div>"
      ],
      "text/plain": [
       "   id  price\n",
       "0   1      0\n",
       "1   2      0\n",
       "2   3      0\n",
       "3   4      0\n",
       "4   5      0"
      ]
     },
     "execution_count": 5,
     "metadata": {},
     "output_type": "execute_result"
    }
   ],
   "source": [
    "sample_sub = pd.read_csv('/kaggle/input/aviachipta-narxini-bashorat-qilish/sample_solution.csv')\n",
    "sample_sub.head()"
   ]
  },
  {
   "cell_type": "markdown",
   "id": "ae9cad05",
   "metadata": {
    "papermill": {
     "duration": 0.006922,
     "end_time": "2023-05-14T07:34:54.380051",
     "exception": false,
     "start_time": "2023-05-14T07:34:54.373129",
     "status": "completed"
    },
    "tags": []
   },
   "source": [
    "> ****umumiy malumot**"
   ]
  },
  {
   "cell_type": "code",
   "execution_count": 6,
   "id": "f4d402a3",
   "metadata": {
    "execution": {
     "iopub.execute_input": "2023-05-14T07:34:54.396690Z",
     "iopub.status.busy": "2023-05-14T07:34:54.395781Z",
     "iopub.status.idle": "2023-05-14T07:34:54.434375Z",
     "shell.execute_reply": "2023-05-14T07:34:54.433144Z"
    },
    "papermill": {
     "duration": 0.050121,
     "end_time": "2023-05-14T07:34:54.437667",
     "exception": false,
     "start_time": "2023-05-14T07:34:54.387546",
     "status": "completed"
    },
    "tags": []
   },
   "outputs": [
    {
     "name": "stdout",
     "output_type": "stream",
     "text": [
      "<class 'pandas.core.frame.DataFrame'>\n",
      "RangeIndex: 20000 entries, 0 to 19999\n",
      "Data columns (total 12 columns):\n",
      " #   Column            Non-Null Count  Dtype  \n",
      "---  ------            --------------  -----  \n",
      " 0   id                20000 non-null  int64  \n",
      " 1   airline           20000 non-null  object \n",
      " 2   flight            20000 non-null  object \n",
      " 3   source_city       20000 non-null  object \n",
      " 4   departure_time    20000 non-null  object \n",
      " 5   stops             20000 non-null  object \n",
      " 6   arrival_time      20000 non-null  object \n",
      " 7   destination_city  20000 non-null  object \n",
      " 8   class             20000 non-null  object \n",
      " 9   duration          20000 non-null  float64\n",
      " 10  days_left         20000 non-null  int64  \n",
      " 11  price             20000 non-null  int64  \n",
      "dtypes: float64(1), int64(3), object(8)\n",
      "memory usage: 1.8+ MB\n"
     ]
    }
   ],
   "source": [
    "train.info()"
   ]
  },
  {
   "cell_type": "code",
   "execution_count": 7,
   "id": "f0207786",
   "metadata": {
    "execution": {
     "iopub.execute_input": "2023-05-14T07:34:54.455542Z",
     "iopub.status.busy": "2023-05-14T07:34:54.453730Z",
     "iopub.status.idle": "2023-05-14T07:34:54.464181Z",
     "shell.execute_reply": "2023-05-14T07:34:54.463099Z"
    },
    "papermill": {
     "duration": 0.021008,
     "end_time": "2023-05-14T07:34:54.466449",
     "exception": false,
     "start_time": "2023-05-14T07:34:54.445441",
     "status": "completed"
    },
    "tags": []
   },
   "outputs": [
    {
     "data": {
      "text/plain": [
       "array(['UK-810', 'SG-5094', 'UK-846', ..., 'AI-489', 'G8-213', '6E-7201'],\n",
       "      dtype=object)"
      ]
     },
     "execution_count": 7,
     "metadata": {},
     "output_type": "execute_result"
    }
   ],
   "source": [
    "train['flight'].unique()"
   ]
  },
  {
   "cell_type": "code",
   "execution_count": 8,
   "id": "fcb7710a",
   "metadata": {
    "execution": {
     "iopub.execute_input": "2023-05-14T07:34:54.482678Z",
     "iopub.status.busy": "2023-05-14T07:34:54.481867Z",
     "iopub.status.idle": "2023-05-14T07:34:54.493233Z",
     "shell.execute_reply": "2023-05-14T07:34:54.492144Z"
    },
    "papermill": {
     "duration": 0.021789,
     "end_time": "2023-05-14T07:34:54.495557",
     "exception": false,
     "start_time": "2023-05-14T07:34:54.473768",
     "status": "completed"
    },
    "tags": []
   },
   "outputs": [
    {
     "data": {
      "text/plain": [
       "UK-706     208\n",
       "UK-720     190\n",
       "UK-822     178\n",
       "UK-836     169\n",
       "UK-772     169\n",
       "          ... \n",
       "6E-2471      1\n",
       "6E-821       1\n",
       "SG-1031      1\n",
       "6E-759       1\n",
       "6E-7201      1\n",
       "Name: flight, Length: 1310, dtype: int64"
      ]
     },
     "execution_count": 8,
     "metadata": {},
     "output_type": "execute_result"
    }
   ],
   "source": [
    "train['flight'].value_counts()"
   ]
  },
  {
   "cell_type": "code",
   "execution_count": 9,
   "id": "667ea1b2",
   "metadata": {
    "execution": {
     "iopub.execute_input": "2023-05-14T07:34:54.511951Z",
     "iopub.status.busy": "2023-05-14T07:34:54.510987Z",
     "iopub.status.idle": "2023-05-14T07:34:54.522398Z",
     "shell.execute_reply": "2023-05-14T07:34:54.521121Z"
    },
    "papermill": {
     "duration": 0.02176,
     "end_time": "2023-05-14T07:34:54.524719",
     "exception": false,
     "start_time": "2023-05-14T07:34:54.502959",
     "status": "completed"
    },
    "tags": []
   },
   "outputs": [
    {
     "data": {
      "text/plain": [
       "array(['AI-439', 'UK-941', 'UK-977', 'UK-878', 'AI-675', 'G8-7555',\n",
       "       'AI-888', 'UK-988', 'UK-720', 'UK-810', 'UK-873', 'UK-830',\n",
       "       'UK-836', 'G8-422', 'G8-512', 'AI-768', 'G8-2513', 'AI-503',\n",
       "       'UK-708', 'G8-283', 'AI-763', 'AI-636', 'UK-850', 'AI-808',\n",
       "       '6E-5394', 'AI-440', '6E-939', 'UK-801', 'I5-1228'], dtype=object)"
      ]
     },
     "execution_count": 9,
     "metadata": {},
     "output_type": "execute_result"
    }
   ],
   "source": [
    "train1 = train.sample(33)\n",
    "train1['flight'].unique()"
   ]
  },
  {
   "cell_type": "code",
   "execution_count": 10,
   "id": "930edaea",
   "metadata": {
    "execution": {
     "iopub.execute_input": "2023-05-14T07:34:54.541607Z",
     "iopub.status.busy": "2023-05-14T07:34:54.540703Z",
     "iopub.status.idle": "2023-05-14T07:34:54.987824Z",
     "shell.execute_reply": "2023-05-14T07:34:54.986623Z"
    },
    "papermill": {
     "duration": 0.458666,
     "end_time": "2023-05-14T07:34:54.990741",
     "exception": false,
     "start_time": "2023-05-14T07:34:54.532075",
     "status": "completed"
    },
    "tags": []
   },
   "outputs": [
    {
     "data": {
      "image/png": "[encoded data removed]",
      "text/plain": [
       "<Figure size 640x480 with 1 Axes>"
      ]
     },
     "metadata": {},
     "output_type": "display_data"
    }
   ],
   "source": [
    "train1.groupby('flight')['flight'].count().sort_values(ascending=True).plot.barh();\n"
   ]
  },
  {
   "cell_type": "code",
   "execution_count": 11,
   "id": "6002b5cd",
   "metadata": {
    "execution": {
     "iopub.execute_input": "2023-05-14T07:34:55.010573Z",
     "iopub.status.busy": "2023-05-14T07:34:55.009862Z",
     "iopub.status.idle": "2023-05-14T07:34:55.365552Z",
     "shell.execute_reply": "2023-05-14T07:34:55.364389Z"
    },
    "papermill": {
     "duration": 0.368436,
     "end_time": "2023-05-14T07:34:55.368246",
     "exception": false,
     "start_time": "2023-05-14T07:34:54.999810",
     "status": "completed"
    },
    "tags": []
   },
   "outputs": [
    {
     "data": {
      "image/png": "[encoded data removed]",
      "text/plain": [
       "<Figure size 1000x600 with 1 Axes>"
      ]
     },
     "metadata": {},
     "output_type": "display_data"
    }
   ],
   "source": [
    "plt.figure(figsize=(10, 6))\n",
    "sns.histplot(data=train, x='price')\n",
    "plt.show()"
   ]
  },
  {
   "cell_type": "code",
   "execution_count": 12,
   "id": "207f31c7",
   "metadata": {
    "execution": {
     "iopub.execute_input": "2023-05-14T07:34:55.388971Z",
     "iopub.status.busy": "2023-05-14T07:34:55.386964Z",
     "iopub.status.idle": "2023-05-14T07:34:55.864878Z",
     "shell.execute_reply": "2023-05-14T07:34:55.863794Z"
    },
    "papermill": {
     "duration": 0.490303,
     "end_time": "2023-05-14T07:34:55.867438",
     "exception": false,
     "start_time": "2023-05-14T07:34:55.377135",
     "status": "completed"
    },
    "tags": []
   },
   "outputs": [
    {
     "data": {
      "image/png": "[encoded data removed]",
      "text/plain": [
       "<Figure size 1500x600 with 1 Axes>"
      ]
     },
     "metadata": {},
     "output_type": "display_data"
    }
   ],
   "source": [
    "sns.displot(data=train, x='price', kind='ecdf', height=6, aspect=2.5)\n",
    "plt.xticks(rotation=90)\n",
    "plt.grid(which='major')\n",
    "plt.minorticks_on()\n",
    "plt.show()"
   ]
  },
  {
   "cell_type": "code",
   "execution_count": 13,
   "id": "5b832865",
   "metadata": {
    "execution": {
     "iopub.execute_input": "2023-05-14T07:34:55.888087Z",
     "iopub.status.busy": "2023-05-14T07:34:55.886998Z",
     "iopub.status.idle": "2023-05-14T07:34:56.427673Z",
     "shell.execute_reply": "2023-05-14T07:34:56.426398Z"
    },
    "papermill": {
     "duration": 0.55335,
     "end_time": "2023-05-14T07:34:56.430455",
     "exception": false,
     "start_time": "2023-05-14T07:34:55.877105",
     "status": "completed"
    },
    "tags": []
   },
   "outputs": [
    {
     "data": {
      "image/png": "[encoded data removed]",
      "text/plain": [
       "<Figure size 1000x1000 with 2 Axes>"
      ]
     },
     "metadata": {},
     "output_type": "display_data"
    }
   ],
   "source": [
    "#biletni narxi uning classiga bogliq\n",
    "\n",
    "fig, ax = plt.subplots(2, 1, figsize=(10,10))\n",
    "# Umumiy chizma nomini beramiz:\n",
    "sns.histplot(ax=ax[0], data=train, x='price')\n",
    "sns.scatterplot(ax=ax[1], data=train, x=train['class'], y=train['price'])\n",
    "plt.show()"
   ]
  },
  {
   "cell_type": "code",
   "execution_count": 14,
   "id": "3c01d0db",
   "metadata": {
    "execution": {
     "iopub.execute_input": "2023-05-14T07:34:56.453227Z",
     "iopub.status.busy": "2023-05-14T07:34:56.452319Z",
     "iopub.status.idle": "2023-05-14T07:34:56.467090Z",
     "shell.execute_reply": "2023-05-14T07:34:56.465987Z"
    },
    "papermill": {
     "duration": 0.028368,
     "end_time": "2023-05-14T07:34:56.469857",
     "exception": false,
     "start_time": "2023-05-14T07:34:56.441489",
     "status": "completed"
    },
    "tags": []
   },
   "outputs": [],
   "source": [
    "train['kfold'] = -1\n",
    "kf = model_selection.KFold(n_splits=5,shuffle=True,random_state=99)\n",
    "for fold,(train_indicies,valid_indicies) in enumerate(kf.split(X=train)):\n",
    "    train.loc[valid_indicies,'kfold'] = fold\n"
   ]
  },
  {
   "cell_type": "code",
   "execution_count": 15,
   "id": "eee9c529",
   "metadata": {
    "execution": {
     "iopub.execute_input": "2023-05-14T07:34:56.491976Z",
     "iopub.status.busy": "2023-05-14T07:34:56.491395Z",
     "iopub.status.idle": "2023-05-14T07:34:56.500421Z",
     "shell.execute_reply": "2023-05-14T07:34:56.499488Z"
    },
    "papermill": {
     "duration": 0.022069,
     "end_time": "2023-05-14T07:34:56.502699",
     "exception": false,
     "start_time": "2023-05-14T07:34:56.480630",
     "status": "completed"
    },
    "tags": []
   },
   "outputs": [],
   "source": [
    "df = train.copy()\n",
    "\n",
    "\n",
    "useful_features = [c for c in df.columns if c not in (\"id\", \"price\", \"kfold\")]\n",
    "\n",
    "# categoria ustunlarimiz\n",
    "object_cols = ['airline','flight','source_city','departure_time','stops','arrival_time','destination_city','class'] \n",
    "test = test[useful_features]"
   ]
  },
  {
   "cell_type": "code",
   "execution_count": 16,
   "id": "741a3ca4",
   "metadata": {
    "execution": {
     "iopub.execute_input": "2023-05-14T07:34:56.524190Z",
     "iopub.status.busy": "2023-05-14T07:34:56.523836Z",
     "iopub.status.idle": "2023-05-14T07:35:07.723376Z",
     "shell.execute_reply": "2023-05-14T07:35:07.722067Z"
    },
    "papermill": {
     "duration": 11.213539,
     "end_time": "2023-05-14T07:35:07.725876",
     "exception": false,
     "start_time": "2023-05-14T07:34:56.512337",
     "status": "completed"
    },
    "tags": []
   },
   "outputs": [
    {
     "name": "stdout",
     "output_type": "stream",
     "text": [
      "0 3594.709260707636\n",
      "1 3438.7691222484164\n",
      "2 3347.632104399266\n",
      "3 3396.166446412156\n",
      "4 3531.598968509821\n"
     ]
    }
   ],
   "source": [
    "final_predictions = []\n",
    "for fold in range(5):\n",
    "    xtrain =  df[df.kfold != fold].reset_index(drop=True)\n",
    "    xvalid = df[df.kfold == fold].reset_index(drop=True)\n",
    "    xtest = test.copy()\n",
    "\n",
    "    ytrain = xtrain.price\n",
    "    yvalid = xvalid.price\n",
    "    \n",
    "    xtrain = xtrain[useful_features]\n",
    "    xvalid = xvalid[useful_features]\n",
    "    \n",
    "    ordinal_encoder = OrdinalEncoder(handle_unknown=\"use_encoded_value\", unknown_value=-999)\n",
    "    xtrain[object_cols] = ordinal_encoder.fit_transform(xtrain[object_cols])\n",
    "    xvalid[object_cols] = ordinal_encoder.transform(xvalid[object_cols])\n",
    "    xtest[object_cols] = ordinal_encoder.transform(xtest[object_cols])\n",
    "    \n",
    "    model = XGBRegressor(random_state=fold, n_jobs=4)\n",
    "    model.fit(xtrain, ytrain)\n",
    "    preds_valid = model.predict(xvalid)\n",
    "    test_preds = model.predict(xtest)\n",
    "    final_predictions.append(test_preds)\n",
    "    print(fold, mean_squared_error(yvalid, preds_valid, squared=False))"
   ]
  },
  {
   "cell_type": "code",
   "execution_count": 17,
   "id": "69a0efbc",
   "metadata": {
    "execution": {
     "iopub.execute_input": "2023-05-14T07:35:07.747653Z",
     "iopub.status.busy": "2023-05-14T07:35:07.747312Z",
     "iopub.status.idle": "2023-05-14T07:35:07.753685Z",
     "shell.execute_reply": "2023-05-14T07:35:07.752410Z"
    },
    "papermill": {
     "duration": 0.020545,
     "end_time": "2023-05-14T07:35:07.756624",
     "exception": false,
     "start_time": "2023-05-14T07:35:07.736079",
     "status": "completed"
    },
    "tags": []
   },
   "outputs": [],
   "source": [
    "baholash = np.mean(np.column_stack(final_predictions), axis=1)"
   ]
  },
  {
   "cell_type": "code",
   "execution_count": 18,
   "id": "752ab390",
   "metadata": {
    "execution": {
     "iopub.execute_input": "2023-05-14T07:35:07.779034Z",
     "iopub.status.busy": "2023-05-14T07:35:07.778732Z",
     "iopub.status.idle": "2023-05-14T07:35:07.810992Z",
     "shell.execute_reply": "2023-05-14T07:35:07.809294Z"
    },
    "papermill": {
     "duration": 0.04597,
     "end_time": "2023-05-14T07:35:07.813387",
     "exception": false,
     "start_time": "2023-05-14T07:35:07.767417",
     "status": "completed"
    },
    "tags": []
   },
   "outputs": [
    {
     "data": {
      "text/html": [
       "<div>\n",
       "<style scoped>\n",
       "    .dataframe tbody tr th:only-of-type {\n",
       "        vertical-align: middle;\n",
       "    }\n",
       "\n",
       "    .dataframe tbody tr th {\n",
       "        vertical-align: top;\n",
       "    }\n",
       "\n",
       "    .dataframe thead th {\n",
       "        text-align: right;\n",
       "    }\n",
       "</style>\n",
       "<table border=\"1\" class=\"dataframe\">\n",
       "  <thead>\n",
       "    <tr style=\"text-align: right;\">\n",
       "      <th></th>\n",
       "      <th>id</th>\n",
       "      <th>price</th>\n",
       "    </tr>\n",
       "  </thead>\n",
       "  <tbody>\n",
       "    <tr>\n",
       "      <th>0</th>\n",
       "      <td>1</td>\n",
       "      <td>58207.132812</td>\n",
       "    </tr>\n",
       "    <tr>\n",
       "      <th>1</th>\n",
       "      <td>2</td>\n",
       "      <td>63278.175781</td>\n",
       "    </tr>\n",
       "    <tr>\n",
       "      <th>2</th>\n",
       "      <td>3</td>\n",
       "      <td>24384.445312</td>\n",
       "    </tr>\n",
       "    <tr>\n",
       "      <th>3</th>\n",
       "      <td>4</td>\n",
       "      <td>2416.564697</td>\n",
       "    </tr>\n",
       "    <tr>\n",
       "      <th>4</th>\n",
       "      <td>5</td>\n",
       "      <td>5873.898438</td>\n",
       "    </tr>\n",
       "    <tr>\n",
       "      <th>...</th>\n",
       "      <td>...</td>\n",
       "      <td>...</td>\n",
       "    </tr>\n",
       "    <tr>\n",
       "      <th>4995</th>\n",
       "      <td>4996</td>\n",
       "      <td>58678.867188</td>\n",
       "    </tr>\n",
       "    <tr>\n",
       "      <th>4996</th>\n",
       "      <td>4997</td>\n",
       "      <td>4745.448242</td>\n",
       "    </tr>\n",
       "    <tr>\n",
       "      <th>4997</th>\n",
       "      <td>4998</td>\n",
       "      <td>51510.433594</td>\n",
       "    </tr>\n",
       "    <tr>\n",
       "      <th>4998</th>\n",
       "      <td>4999</td>\n",
       "      <td>46974.621094</td>\n",
       "    </tr>\n",
       "    <tr>\n",
       "      <th>4999</th>\n",
       "      <td>5000</td>\n",
       "      <td>62083.289062</td>\n",
       "    </tr>\n",
       "  </tbody>\n",
       "</table>\n",
       "<p>5000 rows × 2 columns</p>\n",
       "</div>"
      ],
      "text/plain": [
       "        id         price\n",
       "0        1  58207.132812\n",
       "1        2  63278.175781\n",
       "2        3  24384.445312\n",
       "3        4   2416.564697\n",
       "4        5   5873.898438\n",
       "...    ...           ...\n",
       "4995  4996  58678.867188\n",
       "4996  4997   4745.448242\n",
       "4997  4998  51510.433594\n",
       "4998  4999  46974.621094\n",
       "4999  5000  62083.289062\n",
       "\n",
       "[5000 rows x 2 columns]"
      ]
     },
     "execution_count": 18,
     "metadata": {},
     "output_type": "execute_result"
    }
   ],
   "source": [
    "sample_sub.price = baholash\n",
    "sample_sub.to_csv(\"submission.csv1\", index=False)\n",
    "sample_sub"
   ]
  },
  {
   "cell_type": "code",
   "execution_count": null,
   "id": "bbc7e8fe",
   "metadata": {
    "papermill": {
     "duration": 0.010116,
     "end_time": "2023-05-14T07:35:07.834263",
     "exception": false,
     "start_time": "2023-05-14T07:35:07.824147",
     "status": "completed"
    },
    "tags": []
   },
   "outputs": [],
   "source": []
  }
 ],
 "metadata": {
  "kernelspec": {
   "display_name": "Python 3",
   "language": "python",
   "name": "python3"
  },
  "language_info": {
   "codemirror_mode": {
    "name": "ipython",
    "version": 3
   },
   "file_extension": ".py",
   "mimetype": "text/x-python",
   "name": "python",
   "nbconvert_exporter": "python",
   "pygments_lexer": "ipython3",
   "version": "3.7.12"
  },
  "papermill": {
   "default_parameters": {},
   "duration": 28.444335,
   "end_time": "2023-05-14T07:35:09.169328",
   "environment_variables": {},
   "exception": null,
   "input_path": "__notebook__.ipynb",
   "output_path": "__notebook__.ipynb",
   "parameters": {},
   "start_time": "2023-05-14T07:34:40.724993",
   "version": "2.4.0"
  }
 },
 "nbformat": 4,
 "nbformat_minor": 5
}
