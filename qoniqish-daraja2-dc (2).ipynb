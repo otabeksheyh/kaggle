{
 "cells": [
  {
   "cell_type": "code",
   "execution_count": 1,
   "id": "425f77e9",
   "metadata": {
    "_cell_guid": "b1076dfc-b9ad-4769-8c92-a6c4dae69d19",
    "_uuid": "8f2839f25d086af736a60e9eeb907d3b93b6e0e5",
    "execution": {
     "iopub.execute_input": "2023-04-13T15:08:35.364555Z",
     "iopub.status.busy": "2023-04-13T15:08:35.364096Z",
     "iopub.status.idle": "2023-04-13T15:08:35.380235Z",
     "shell.execute_reply": "2023-04-13T15:08:35.378239Z"
    },
    "papermill": {
     "duration": 0.027737,
     "end_time": "2023-04-13T15:08:35.382733",
     "exception": false,
     "start_time": "2023-04-13T15:08:35.354996",
     "status": "completed"
    },
    "tags": []
   },
   "outputs": [
    {
     "name": "stdout",
     "output_type": "stream",
     "text": [
      "/kaggle/input/aviakompaniya/sample_submission.csv\n",
      "/kaggle/input/aviakompaniya/train_dataset.csv\n",
      "/kaggle/input/aviakompaniya/test_dataset.csv\n"
     ]
    }
   ],
   "source": [
    "# This Python 3 environment comes with many helpful analytics libraries installed\n",
    "# It is defined by the kaggle/python Docker image: https://github.com/kaggle/docker-python\n",
    "# For example, here's several helpful packages to load\n",
    "\n",
    "import numpy as np # linear algebra\n",
    "import pandas as pd # data processing, CSV file I/O (e.g. pd.read_csv)\n",
    "\n",
    "# Input data files are available in the read-only \"../input/\" directory\n",
    "# For example, running this (by clicking run or pressing Shift+Enter) will list all files under the input directory\n",
    "\n",
    "import os\n",
    "for dirname, _, filenames in os.walk('/kaggle/input'):\n",
    "    for filename in filenames:\n",
    "        print(os.path.join(dirname, filename))\n",
    "\n",
    "# You can write up to 20GB to the current directory (/kaggle/working/) that gets preserved as output when you create a version using \"Save & Run All\" \n",
    "# You can also write temporary files to /kaggle/temp/, but they won't be saved outside of the current session"
   ]
  },
  {
   "cell_type": "code",
   "execution_count": 2,
   "id": "6d0a4a8d",
   "metadata": {
    "execution": {
     "iopub.execute_input": "2023-04-13T15:08:35.398352Z",
     "iopub.status.busy": "2023-04-13T15:08:35.397445Z",
     "iopub.status.idle": "2023-04-13T15:08:38.659902Z",
     "shell.execute_reply": "2023-04-13T15:08:38.658642Z"
    },
    "papermill": {
     "duration": 3.274254,
     "end_time": "2023-04-13T15:08:38.663355",
     "exception": false,
     "start_time": "2023-04-13T15:08:35.389101",
     "status": "completed"
    },
    "tags": []
   },
   "outputs": [
    {
     "data": {
      "text/html": [
       "<style type='text/css'>\n",
       ".datatable table.frame { margin-bottom: 0; }\n",
       ".datatable table.frame thead { border-bottom: none; }\n",
       ".datatable table.frame tr.coltypes td {  color: #FFFFFF;  line-height: 6px;  padding: 0 0.5em;}\n",
       ".datatable .bool    { background: #DDDD99; }\n",
       ".datatable .object  { background: #565656; }\n",
       ".datatable .int     { background: #5D9E5D; }\n",
       ".datatable .float   { background: #4040CC; }\n",
       ".datatable .str     { background: #CC4040; }\n",
       ".datatable .time    { background: #40CC40; }\n",
       ".datatable .row_index {  background: var(--jp-border-color3);  border-right: 1px solid var(--jp-border-color0);  color: var(--jp-ui-font-color3);  font-size: 9px;}\n",
       ".datatable .frame tbody td { text-align: left; }\n",
       ".datatable .frame tr.coltypes .row_index {  background: var(--jp-border-color0);}\n",
       ".datatable th:nth-child(2) { padding-left: 12px; }\n",
       ".datatable .hellipsis {  color: var(--jp-cell-editor-border-color);}\n",
       ".datatable .vellipsis {  background: var(--jp-layout-color0);  color: var(--jp-cell-editor-border-color);}\n",
       ".datatable .na {  color: var(--jp-cell-editor-border-color);  font-size: 80%;}\n",
       ".datatable .sp {  opacity: 0.25;}\n",
       ".datatable .footer { font-size: 9px; }\n",
       ".datatable .frame_dimensions {  background: var(--jp-border-color3);  border-top: 1px solid var(--jp-border-color0);  color: var(--jp-ui-font-color3);  display: inline-block;  opacity: 0.6;  padding: 1px 10px 1px 5px;}\n",
       "</style>\n"
      ],
      "text/plain": [
       "<IPython.core.display.HTML object>"
      ]
     },
     "metadata": {},
     "output_type": "display_data"
    }
   ],
   "source": [
    "import matplotlib.pyplot as plt\n",
    "import seaborn as sns\n",
    "\n",
    "import lightgbm as lgb # tezkor va samarali gradient boosting framework\n",
    "from sklearn.ensemble import RandomForestClassifier"
   ]
  },
  {
   "cell_type": "code",
   "execution_count": 3,
   "id": "8cc5eb06",
   "metadata": {
    "execution": {
     "iopub.execute_input": "2023-04-13T15:08:38.677679Z",
     "iopub.status.busy": "2023-04-13T15:08:38.676616Z",
     "iopub.status.idle": "2023-04-13T15:08:38.787990Z",
     "shell.execute_reply": "2023-04-13T15:08:38.786358Z"
    },
    "papermill": {
     "duration": 0.121981,
     "end_time": "2023-04-13T15:08:38.791240",
     "exception": false,
     "start_time": "2023-04-13T15:08:38.669259",
     "status": "completed"
    },
    "tags": []
   },
   "outputs": [
    {
     "name": "stdout",
     "output_type": "stream",
     "text": [
      "(10000, 23) (4000, 22)\n"
     ]
    },
    {
     "data": {
      "text/html": [
       "<div>\n",
       "<style scoped>\n",
       "    .dataframe tbody tr th:only-of-type {\n",
       "        vertical-align: middle;\n",
       "    }\n",
       "\n",
       "    .dataframe tbody tr th {\n",
       "        vertical-align: top;\n",
       "    }\n",
       "\n",
       "    .dataframe thead th {\n",
       "        text-align: right;\n",
       "    }\n",
       "</style>\n",
       "<table border=\"1\" class=\"dataframe\">\n",
       "  <thead>\n",
       "    <tr style=\"text-align: right;\">\n",
       "      <th></th>\n",
       "      <th>id</th>\n",
       "      <th>satisfaction</th>\n",
       "    </tr>\n",
       "  </thead>\n",
       "  <tbody>\n",
       "    <tr>\n",
       "      <th>0</th>\n",
       "      <td>1</td>\n",
       "      <td>0</td>\n",
       "    </tr>\n",
       "    <tr>\n",
       "      <th>1</th>\n",
       "      <td>2</td>\n",
       "      <td>0</td>\n",
       "    </tr>\n",
       "    <tr>\n",
       "      <th>2</th>\n",
       "      <td>3</td>\n",
       "      <td>0</td>\n",
       "    </tr>\n",
       "    <tr>\n",
       "      <th>3</th>\n",
       "      <td>4</td>\n",
       "      <td>0</td>\n",
       "    </tr>\n",
       "    <tr>\n",
       "      <th>4</th>\n",
       "      <td>5</td>\n",
       "      <td>0</td>\n",
       "    </tr>\n",
       "    <tr>\n",
       "      <th>...</th>\n",
       "      <td>...</td>\n",
       "      <td>...</td>\n",
       "    </tr>\n",
       "    <tr>\n",
       "      <th>3995</th>\n",
       "      <td>3996</td>\n",
       "      <td>0</td>\n",
       "    </tr>\n",
       "    <tr>\n",
       "      <th>3996</th>\n",
       "      <td>3997</td>\n",
       "      <td>0</td>\n",
       "    </tr>\n",
       "    <tr>\n",
       "      <th>3997</th>\n",
       "      <td>3998</td>\n",
       "      <td>0</td>\n",
       "    </tr>\n",
       "    <tr>\n",
       "      <th>3998</th>\n",
       "      <td>3999</td>\n",
       "      <td>0</td>\n",
       "    </tr>\n",
       "    <tr>\n",
       "      <th>3999</th>\n",
       "      <td>4000</td>\n",
       "      <td>0</td>\n",
       "    </tr>\n",
       "  </tbody>\n",
       "</table>\n",
       "<p>4000 rows × 2 columns</p>\n",
       "</div>"
      ],
      "text/plain": [
       "        id  satisfaction\n",
       "0        1             0\n",
       "1        2             0\n",
       "2        3             0\n",
       "3        4             0\n",
       "4        5             0\n",
       "...    ...           ...\n",
       "3995  3996             0\n",
       "3996  3997             0\n",
       "3997  3998             0\n",
       "3998  3999             0\n",
       "3999  4000             0\n",
       "\n",
       "[4000 rows x 2 columns]"
      ]
     },
     "execution_count": 3,
     "metadata": {},
     "output_type": "execute_result"
    }
   ],
   "source": [
    "train = pd.read_csv('../input/aviakompaniya/train_dataset.csv',index_col=['id'])\n",
    "test = pd.read_csv('../input/aviakompaniya/test_dataset.csv',index_col=['id'])\n",
    "sample_sub = pd.read_csv('../input/aviakompaniya/sample_submission.csv')\n",
    "\n",
    "print(train.shape,test.shape)\n",
    "sample_sub"
   ]
  },
  {
   "cell_type": "code",
   "execution_count": 4,
   "id": "a3d07695",
   "metadata": {
    "execution": {
     "iopub.execute_input": "2023-04-13T15:08:38.807795Z",
     "iopub.status.busy": "2023-04-13T15:08:38.807109Z",
     "iopub.status.idle": "2023-04-13T15:08:38.833062Z",
     "shell.execute_reply": "2023-04-13T15:08:38.831962Z"
    },
    "papermill": {
     "duration": 0.036368,
     "end_time": "2023-04-13T15:08:38.835455",
     "exception": false,
     "start_time": "2023-04-13T15:08:38.799087",
     "status": "completed"
    },
    "tags": []
   },
   "outputs": [
    {
     "name": "stdout",
     "output_type": "stream",
     "text": [
      "<class 'pandas.core.frame.DataFrame'>\n",
      "Int64Index: 10000 entries, 1 to 10000\n",
      "Data columns (total 23 columns):\n",
      " #   Column                             Non-Null Count  Dtype  \n",
      "---  ------                             --------------  -----  \n",
      " 0   Gender                             10000 non-null  object \n",
      " 1   Customer Type                      10000 non-null  object \n",
      " 2   Age                                10000 non-null  int64  \n",
      " 3   Type of Travel                     10000 non-null  object \n",
      " 4   Class                              10000 non-null  object \n",
      " 5   Flight Distance                    10000 non-null  int64  \n",
      " 6   Inflight wifi service              10000 non-null  int64  \n",
      " 7   Departure/Arrival time convenient  10000 non-null  int64  \n",
      " 8   Ease of Online booking             10000 non-null  int64  \n",
      " 9   Gate location                      10000 non-null  int64  \n",
      " 10  Food and drink                     10000 non-null  int64  \n",
      " 11  Online boarding                    10000 non-null  int64  \n",
      " 12  Seat comfort                       10000 non-null  int64  \n",
      " 13  Inflight entertainment             10000 non-null  int64  \n",
      " 14  On-board service                   10000 non-null  int64  \n",
      " 15  Leg room service                   10000 non-null  int64  \n",
      " 16  Baggage handling                   10000 non-null  int64  \n",
      " 17  Checkin service                    10000 non-null  int64  \n",
      " 18  Inflight service                   10000 non-null  int64  \n",
      " 19  Cleanliness                        10000 non-null  int64  \n",
      " 20  Departure Delay in Minutes         10000 non-null  int64  \n",
      " 21  Arrival Delay in Minutes           9972 non-null   float64\n",
      " 22  satisfaction                       10000 non-null  int64  \n",
      "dtypes: float64(1), int64(18), object(4)\n",
      "memory usage: 1.8+ MB\n"
     ]
    }
   ],
   "source": [
    "train.info()"
   ]
  },
  {
   "cell_type": "code",
   "execution_count": 5,
   "id": "3a5cc51f",
   "metadata": {
    "execution": {
     "iopub.execute_input": "2023-04-13T15:08:38.850010Z",
     "iopub.status.busy": "2023-04-13T15:08:38.849512Z",
     "iopub.status.idle": "2023-04-13T15:08:38.856867Z",
     "shell.execute_reply": "2023-04-13T15:08:38.855638Z"
    },
    "papermill": {
     "duration": 0.01823,
     "end_time": "2023-04-13T15:08:38.859927",
     "exception": false,
     "start_time": "2023-04-13T15:08:38.841697",
     "status": "completed"
    },
    "tags": []
   },
   "outputs": [
    {
     "data": {
      "text/plain": [
       "Index(['Gender', 'Customer Type', 'Age', 'Type of Travel', 'Class',\n",
       "       'Flight Distance', 'Inflight wifi service',\n",
       "       'Departure/Arrival time convenient', 'Ease of Online booking',\n",
       "       'Gate location', 'Food and drink', 'Online boarding', 'Seat comfort',\n",
       "       'Inflight entertainment', 'On-board service', 'Leg room service',\n",
       "       'Baggage handling', 'Checkin service', 'Inflight service',\n",
       "       'Cleanliness', 'Departure Delay in Minutes', 'Arrival Delay in Minutes',\n",
       "       'satisfaction'],\n",
       "      dtype='object')"
      ]
     },
     "execution_count": 5,
     "metadata": {},
     "output_type": "execute_result"
    }
   ],
   "source": [
    "train.columns"
   ]
  },
  {
   "cell_type": "code",
   "execution_count": 6,
   "id": "fb0c65c5",
   "metadata": {
    "execution": {
     "iopub.execute_input": "2023-04-13T15:08:38.874923Z",
     "iopub.status.busy": "2023-04-13T15:08:38.874399Z",
     "iopub.status.idle": "2023-04-13T15:08:38.881701Z",
     "shell.execute_reply": "2023-04-13T15:08:38.880844Z"
    },
    "papermill": {
     "duration": 0.017162,
     "end_time": "2023-04-13T15:08:38.883466",
     "exception": false,
     "start_time": "2023-04-13T15:08:38.866304",
     "status": "completed"
    },
    "tags": []
   },
   "outputs": [
    {
     "data": {
      "text/plain": [
       "Index(['Gender', 'Customer Type', 'Age', 'Type of Travel', 'Class',\n",
       "       'Flight Distance', 'Inflight wifi service',\n",
       "       'Departure/Arrival time convenient', 'Ease of Online booking',\n",
       "       'Gate location', 'Food and drink', 'Online boarding', 'Seat comfort',\n",
       "       'Inflight entertainment', 'On-board service', 'Leg room service',\n",
       "       'Baggage handling', 'Checkin service', 'Inflight service',\n",
       "       'Cleanliness', 'Departure Delay in Minutes',\n",
       "       'Arrival Delay in Minutes'],\n",
       "      dtype='object')"
      ]
     },
     "execution_count": 6,
     "metadata": {},
     "output_type": "execute_result"
    }
   ],
   "source": [
    "test.columns"
   ]
  },
  {
   "cell_type": "code",
   "execution_count": 7,
   "id": "9289fd54",
   "metadata": {
    "execution": {
     "iopub.execute_input": "2023-04-13T15:08:38.898432Z",
     "iopub.status.busy": "2023-04-13T15:08:38.898009Z",
     "iopub.status.idle": "2023-04-13T15:08:38.908143Z",
     "shell.execute_reply": "2023-04-13T15:08:38.906428Z"
    },
    "papermill": {
     "duration": 0.020838,
     "end_time": "2023-04-13T15:08:38.910812",
     "exception": false,
     "start_time": "2023-04-13T15:08:38.889974",
     "status": "completed"
    },
    "tags": []
   },
   "outputs": [
    {
     "data": {
      "text/plain": [
       "0    5000\n",
       "1    5000\n",
       "Name: satisfaction, dtype: int64"
      ]
     },
     "execution_count": 7,
     "metadata": {},
     "output_type": "execute_result"
    }
   ],
   "source": [
    "train.satisfaction.value_counts()"
   ]
  },
  {
   "cell_type": "code",
   "execution_count": 8,
   "id": "179fe738",
   "metadata": {
    "execution": {
     "iopub.execute_input": "2023-04-13T15:08:38.926295Z",
     "iopub.status.busy": "2023-04-13T15:08:38.925792Z",
     "iopub.status.idle": "2023-04-13T15:08:38.944944Z",
     "shell.execute_reply": "2023-04-13T15:08:38.943735Z"
    },
    "papermill": {
     "duration": 0.030307,
     "end_time": "2023-04-13T15:08:38.947780",
     "exception": false,
     "start_time": "2023-04-13T15:08:38.917473",
     "status": "completed"
    },
    "tags": []
   },
   "outputs": [
    {
     "data": {
      "text/html": [
       "<div>\n",
       "<style scoped>\n",
       "    .dataframe tbody tr th:only-of-type {\n",
       "        vertical-align: middle;\n",
       "    }\n",
       "\n",
       "    .dataframe tbody tr th {\n",
       "        vertical-align: top;\n",
       "    }\n",
       "\n",
       "    .dataframe thead th {\n",
       "        text-align: right;\n",
       "    }\n",
       "</style>\n",
       "<table border=\"1\" class=\"dataframe\">\n",
       "  <thead>\n",
       "    <tr style=\"text-align: right;\">\n",
       "      <th>satisfaction</th>\n",
       "      <th>0</th>\n",
       "      <th>1</th>\n",
       "    </tr>\n",
       "  </thead>\n",
       "  <tbody>\n",
       "    <tr>\n",
       "      <th>Age</th>\n",
       "      <td>37.225400</td>\n",
       "      <td>41.524800</td>\n",
       "    </tr>\n",
       "    <tr>\n",
       "      <th>Flight Distance</th>\n",
       "      <td>924.212800</td>\n",
       "      <td>1534.899600</td>\n",
       "    </tr>\n",
       "    <tr>\n",
       "      <th>Inflight wifi service</th>\n",
       "      <td>2.402200</td>\n",
       "      <td>3.158200</td>\n",
       "    </tr>\n",
       "    <tr>\n",
       "      <th>Departure/Arrival time convenient</th>\n",
       "      <td>3.168400</td>\n",
       "      <td>2.961800</td>\n",
       "    </tr>\n",
       "    <tr>\n",
       "      <th>Ease of Online booking</th>\n",
       "      <td>2.563800</td>\n",
       "      <td>3.031800</td>\n",
       "    </tr>\n",
       "    <tr>\n",
       "      <th>Gate location</th>\n",
       "      <td>2.971800</td>\n",
       "      <td>2.990200</td>\n",
       "    </tr>\n",
       "    <tr>\n",
       "      <th>Food and drink</th>\n",
       "      <td>2.937400</td>\n",
       "      <td>3.491600</td>\n",
       "    </tr>\n",
       "    <tr>\n",
       "      <th>Online boarding</th>\n",
       "      <td>2.666000</td>\n",
       "      <td>4.032200</td>\n",
       "    </tr>\n",
       "    <tr>\n",
       "      <th>Seat comfort</th>\n",
       "      <td>3.042600</td>\n",
       "      <td>3.940200</td>\n",
       "    </tr>\n",
       "    <tr>\n",
       "      <th>Inflight entertainment</th>\n",
       "      <td>2.869000</td>\n",
       "      <td>3.936800</td>\n",
       "    </tr>\n",
       "    <tr>\n",
       "      <th>On-board service</th>\n",
       "      <td>3.038000</td>\n",
       "      <td>3.870200</td>\n",
       "    </tr>\n",
       "    <tr>\n",
       "      <th>Leg room service</th>\n",
       "      <td>2.991200</td>\n",
       "      <td>3.840200</td>\n",
       "    </tr>\n",
       "    <tr>\n",
       "      <th>Baggage handling</th>\n",
       "      <td>3.381200</td>\n",
       "      <td>3.971200</td>\n",
       "    </tr>\n",
       "    <tr>\n",
       "      <th>Checkin service</th>\n",
       "      <td>3.068200</td>\n",
       "      <td>3.653000</td>\n",
       "    </tr>\n",
       "    <tr>\n",
       "      <th>Inflight service</th>\n",
       "      <td>3.397400</td>\n",
       "      <td>3.962800</td>\n",
       "    </tr>\n",
       "    <tr>\n",
       "      <th>Cleanliness</th>\n",
       "      <td>2.904200</td>\n",
       "      <td>3.718000</td>\n",
       "    </tr>\n",
       "    <tr>\n",
       "      <th>Departure Delay in Minutes</th>\n",
       "      <td>16.133600</td>\n",
       "      <td>12.726200</td>\n",
       "    </tr>\n",
       "    <tr>\n",
       "      <th>Arrival Delay in Minutes</th>\n",
       "      <td>16.658043</td>\n",
       "      <td>12.761733</td>\n",
       "    </tr>\n",
       "  </tbody>\n",
       "</table>\n",
       "</div>"
      ],
      "text/plain": [
       "satisfaction                                0            1\n",
       "Age                                 37.225400    41.524800\n",
       "Flight Distance                    924.212800  1534.899600\n",
       "Inflight wifi service                2.402200     3.158200\n",
       "Departure/Arrival time convenient    3.168400     2.961800\n",
       "Ease of Online booking               2.563800     3.031800\n",
       "Gate location                        2.971800     2.990200\n",
       "Food and drink                       2.937400     3.491600\n",
       "Online boarding                      2.666000     4.032200\n",
       "Seat comfort                         3.042600     3.940200\n",
       "Inflight entertainment               2.869000     3.936800\n",
       "On-board service                     3.038000     3.870200\n",
       "Leg room service                     2.991200     3.840200\n",
       "Baggage handling                     3.381200     3.971200\n",
       "Checkin service                      3.068200     3.653000\n",
       "Inflight service                     3.397400     3.962800\n",
       "Cleanliness                          2.904200     3.718000\n",
       "Departure Delay in Minutes          16.133600    12.726200\n",
       "Arrival Delay in Minutes            16.658043    12.761733"
      ]
     },
     "execution_count": 8,
     "metadata": {},
     "output_type": "execute_result"
    }
   ],
   "source": [
    "train.groupby('satisfaction').mean().T"
   ]
  },
  {
   "cell_type": "code",
   "execution_count": 9,
   "id": "fbdb8859",
   "metadata": {
    "execution": {
     "iopub.execute_input": "2023-04-13T15:08:38.963157Z",
     "iopub.status.busy": "2023-04-13T15:08:38.962685Z",
     "iopub.status.idle": "2023-04-13T15:08:38.984460Z",
     "shell.execute_reply": "2023-04-13T15:08:38.982496Z"
    },
    "papermill": {
     "duration": 0.033199,
     "end_time": "2023-04-13T15:08:38.987847",
     "exception": false,
     "start_time": "2023-04-13T15:08:38.954648",
     "status": "completed"
    },
    "tags": []
   },
   "outputs": [
    {
     "data": {
      "text/plain": [
       "Gender                                  2\n",
       "Customer Type                           2\n",
       "Age                                    74\n",
       "Type of Travel                          2\n",
       "Class                                   3\n",
       "Flight Distance                      2421\n",
       "Inflight wifi service                   6\n",
       "Departure/Arrival time convenient       6\n",
       "Ease of Online booking                  6\n",
       "Gate location                           5\n",
       "Food and drink                          6\n",
       "Online boarding                         6\n",
       "Seat comfort                            6\n",
       "Inflight entertainment                  6\n",
       "On-board service                        5\n",
       "Leg room service                        6\n",
       "Baggage handling                        5\n",
       "Checkin service                         6\n",
       "Inflight service                        5\n",
       "Cleanliness                             6\n",
       "Departure Delay in Minutes            239\n",
       "Arrival Delay in Minutes              242\n",
       "satisfaction                            2\n",
       "dtype: int64"
      ]
     },
     "execution_count": 9,
     "metadata": {},
     "output_type": "execute_result"
    }
   ],
   "source": [
    "train.nunique()"
   ]
  },
  {
   "cell_type": "code",
   "execution_count": 10,
   "id": "f37a08fd",
   "metadata": {
    "execution": {
     "iopub.execute_input": "2023-04-13T15:08:39.004478Z",
     "iopub.status.busy": "2023-04-13T15:08:39.003895Z",
     "iopub.status.idle": "2023-04-13T15:08:39.018900Z",
     "shell.execute_reply": "2023-04-13T15:08:39.017205Z"
    },
    "papermill": {
     "duration": 0.026854,
     "end_time": "2023-04-13T15:08:39.022151",
     "exception": false,
     "start_time": "2023-04-13T15:08:38.995297",
     "status": "completed"
    },
    "tags": []
   },
   "outputs": [
    {
     "data": {
      "text/plain": [
       "(14000, 24)"
      ]
     },
     "execution_count": 10,
     "metadata": {},
     "output_type": "execute_result"
    }
   ],
   "source": [
    "train['test'] = False\n",
    "test['test']= True\n",
    "df = pd.concat([train,test],axis=0)\n",
    "df.shape"
   ]
  },
  {
   "cell_type": "code",
   "execution_count": 11,
   "id": "14bfb53f",
   "metadata": {
    "execution": {
     "iopub.execute_input": "2023-04-13T15:08:39.038603Z",
     "iopub.status.busy": "2023-04-13T15:08:39.038100Z",
     "iopub.status.idle": "2023-04-13T15:08:39.550836Z",
     "shell.execute_reply": "2023-04-13T15:08:39.549799Z"
    },
    "papermill": {
     "duration": 0.52347,
     "end_time": "2023-04-13T15:08:39.552806",
     "exception": false,
     "start_time": "2023-04-13T15:08:39.029336",
     "status": "completed"
    },
    "tags": []
   },
   "outputs": [
    {
     "data": {
      "text/plain": [
       "<AxesSubplot:>"
      ]
     },
     "execution_count": 11,
     "metadata": {},
     "output_type": "execute_result"
    },
    {
     "data": {
      "image/png": "[encoded data removed]",
      "text/plain": [
       "<Figure size 640x480 with 2 Axes>"
      ]
     },
     "metadata": {},
     "output_type": "display_data"
    }
   ],
   "source": [
    "sns.heatmap(df.corr())"
   ]
  },
  {
   "cell_type": "code",
   "execution_count": 12,
   "id": "84a8fbab",
   "metadata": {
    "execution": {
     "iopub.execute_input": "2023-04-13T15:08:39.573146Z",
     "iopub.status.busy": "2023-04-13T15:08:39.572620Z",
     "iopub.status.idle": "2023-04-13T15:08:39.588912Z",
     "shell.execute_reply": "2023-04-13T15:08:39.586640Z"
    },
    "papermill": {
     "duration": 0.030469,
     "end_time": "2023-04-13T15:08:39.592501",
     "exception": false,
     "start_time": "2023-04-13T15:08:39.562032",
     "status": "completed"
    },
    "tags": []
   },
   "outputs": [],
   "source": [
    "for i in df.columns[df.dtypes=='object']:\n",
    "   df[i]= df[i].factorize()[0]"
   ]
  },
  {
   "cell_type": "code",
   "execution_count": 13,
   "id": "bb46498b",
   "metadata": {
    "execution": {
     "iopub.execute_input": "2023-04-13T15:08:39.611901Z",
     "iopub.status.busy": "2023-04-13T15:08:39.611488Z",
     "iopub.status.idle": "2023-04-13T15:08:39.630957Z",
     "shell.execute_reply": "2023-04-13T15:08:39.628171Z"
    },
    "papermill": {
     "duration": 0.032915,
     "end_time": "2023-04-13T15:08:39.634150",
     "exception": false,
     "start_time": "2023-04-13T15:08:39.601235",
     "status": "completed"
    },
    "tags": []
   },
   "outputs": [
    {
     "data": {
      "text/plain": [
       "Gender                                  2\n",
       "Customer Type                           2\n",
       "Age                                    74\n",
       "Type of Travel                          2\n",
       "Class                                   3\n",
       "Flight Distance                      2768\n",
       "Inflight wifi service                   6\n",
       "Departure/Arrival time convenient       6\n",
       "Ease of Online booking                  6\n",
       "Gate location                           5\n",
       "Food and drink                          6\n",
       "Online boarding                         6\n",
       "Seat comfort                            6\n",
       "Inflight entertainment                  6\n",
       "On-board service                        5\n",
       "Leg room service                        6\n",
       "Baggage handling                        5\n",
       "Checkin service                         6\n",
       "Inflight service                        5\n",
       "Cleanliness                             6\n",
       "Departure Delay in Minutes            258\n",
       "Arrival Delay in Minutes              258\n",
       "satisfaction                            2\n",
       "test                                    2\n",
       "dtype: int64"
      ]
     },
     "execution_count": 13,
     "metadata": {},
     "output_type": "execute_result"
    }
   ],
   "source": [
    "df.nunique()"
   ]
  },
  {
   "cell_type": "code",
   "execution_count": 14,
   "id": "901cf178",
   "metadata": {
    "execution": {
     "iopub.execute_input": "2023-04-13T15:08:39.653397Z",
     "iopub.status.busy": "2023-04-13T15:08:39.652889Z",
     "iopub.status.idle": "2023-04-13T15:08:39.666324Z",
     "shell.execute_reply": "2023-04-13T15:08:39.664862Z"
    },
    "papermill": {
     "duration": 0.026005,
     "end_time": "2023-04-13T15:08:39.668777",
     "exception": false,
     "start_time": "2023-04-13T15:08:39.642772",
     "status": "completed"
    },
    "tags": []
   },
   "outputs": [
    {
     "name": "stdout",
     "output_type": "stream",
     "text": [
      "(10000, 24) (4000, 24)\n"
     ]
    }
   ],
   "source": [
    "train = df[df.test==False]\n",
    "test = df[df.test==True]\n",
    "print(train.shape,test.shape)"
   ]
  },
  {
   "cell_type": "code",
   "execution_count": 15,
   "id": "5008318d",
   "metadata": {
    "execution": {
     "iopub.execute_input": "2023-04-13T15:08:39.688153Z",
     "iopub.status.busy": "2023-04-13T15:08:39.687604Z",
     "iopub.status.idle": "2023-04-13T15:08:39.694572Z",
     "shell.execute_reply": "2023-04-13T15:08:39.693564Z"
    },
    "papermill": {
     "duration": 0.019992,
     "end_time": "2023-04-13T15:08:39.697405",
     "exception": false,
     "start_time": "2023-04-13T15:08:39.677413",
     "status": "completed"
    },
    "tags": []
   },
   "outputs": [],
   "source": [
    "test=test.drop('satisfaction', axis=1)\n"
   ]
  },
  {
   "cell_type": "code",
   "execution_count": 16,
   "id": "390ca915",
   "metadata": {
    "execution": {
     "iopub.execute_input": "2023-04-13T15:08:39.717191Z",
     "iopub.status.busy": "2023-04-13T15:08:39.716648Z",
     "iopub.status.idle": "2023-04-13T15:08:39.726119Z",
     "shell.execute_reply": "2023-04-13T15:08:39.724598Z"
    },
    "papermill": {
     "duration": 0.022661,
     "end_time": "2023-04-13T15:08:39.728914",
     "exception": false,
     "start_time": "2023-04-13T15:08:39.706253",
     "status": "completed"
    },
    "tags": []
   },
   "outputs": [],
   "source": [
    "x = train.copy()\n",
    "x = x.drop('satisfaction', axis=1)\n",
    "y= train.satisfaction"
   ]
  },
  {
   "cell_type": "code",
   "execution_count": 17,
   "id": "33b91778",
   "metadata": {
    "execution": {
     "iopub.execute_input": "2023-04-13T15:08:39.747868Z",
     "iopub.status.busy": "2023-04-13T15:08:39.747445Z",
     "iopub.status.idle": "2023-04-13T15:08:40.862021Z",
     "shell.execute_reply": "2023-04-13T15:08:40.860111Z"
    },
    "papermill": {
     "duration": 1.127745,
     "end_time": "2023-04-13T15:08:40.865166",
     "exception": false,
     "start_time": "2023-04-13T15:08:39.737421",
     "status": "completed"
    },
    "tags": []
   },
   "outputs": [
    {
     "name": "stdout",
     "output_type": "stream",
     "text": [
      "CPU times: user 3 µs, sys: 1e+03 ns, total: 4 µs\n",
      "Wall time: 5.72 µs\n"
     ]
    },
    {
     "data": {
      "text/plain": [
       "LGBMClassifier()"
      ]
     },
     "execution_count": 17,
     "metadata": {},
     "output_type": "execute_result"
    }
   ],
   "source": [
    "%time\n",
    "mod = lgb.LGBMClassifier()\n",
    "mod.fit(x,y)"
   ]
  },
  {
   "cell_type": "code",
   "execution_count": 18,
   "id": "faec9e39",
   "metadata": {
    "execution": {
     "iopub.execute_input": "2023-04-13T15:08:40.886159Z",
     "iopub.status.busy": "2023-04-13T15:08:40.885643Z",
     "iopub.status.idle": "2023-04-13T15:08:46.351002Z",
     "shell.execute_reply": "2023-04-13T15:08:46.349392Z"
    },
    "papermill": {
     "duration": 5.479746,
     "end_time": "2023-04-13T15:08:46.354150",
     "exception": false,
     "start_time": "2023-04-13T15:08:40.874404",
     "status": "completed"
    },
    "tags": []
   },
   "outputs": [
    {
     "name": "stdout",
     "output_type": "stream",
     "text": [
      "cross_val_score. : 0.9531000000000001\n"
     ]
    }
   ],
   "source": [
    "from sklearn.model_selection import cross_val_score\n",
    "print(\"cross_val_score. :\", cross_val_score(mod,x,y, cv=5, scoring='accuracy').mean())"
   ]
  },
  {
   "cell_type": "code",
   "execution_count": 19,
   "id": "7445b74e",
   "metadata": {
    "execution": {
     "iopub.execute_input": "2023-04-13T15:08:46.374827Z",
     "iopub.status.busy": "2023-04-13T15:08:46.374111Z",
     "iopub.status.idle": "2023-04-13T15:08:46.393787Z",
     "shell.execute_reply": "2023-04-13T15:08:46.392760Z"
    },
    "papermill": {
     "duration": 0.033267,
     "end_time": "2023-04-13T15:08:46.396491",
     "exception": false,
     "start_time": "2023-04-13T15:08:46.363224",
     "status": "completed"
    },
    "tags": []
   },
   "outputs": [],
   "source": [
    "javob = mod.predict_proba(test)"
   ]
  },
  {
   "cell_type": "code",
   "execution_count": 20,
   "id": "56f24341",
   "metadata": {
    "execution": {
     "iopub.execute_input": "2023-04-13T15:08:46.417220Z",
     "iopub.status.busy": "2023-04-13T15:08:46.416067Z",
     "iopub.status.idle": "2023-04-13T15:08:46.428835Z",
     "shell.execute_reply": "2023-04-13T15:08:46.427310Z"
    },
    "papermill": {
     "duration": 0.026318,
     "end_time": "2023-04-13T15:08:46.431705",
     "exception": false,
     "start_time": "2023-04-13T15:08:46.405387",
     "status": "completed"
    },
    "tags": []
   },
   "outputs": [],
   "source": [
    "sample_sub = pd.read_csv('/kaggle/input/aviakompaniya/sample_submission.csv')\n",
    "sample_sub['satisfaction'] = 1-javob\n"
   ]
  },
  {
   "cell_type": "code",
   "execution_count": 21,
   "id": "d9e9b1ec",
   "metadata": {
    "execution": {
     "iopub.execute_input": "2023-04-13T15:08:46.451821Z",
     "iopub.status.busy": "2023-04-13T15:08:46.451117Z",
     "iopub.status.idle": "2023-04-13T15:08:46.467229Z",
     "shell.execute_reply": "2023-04-13T15:08:46.465604Z"
    },
    "papermill": {
     "duration": 0.030103,
     "end_time": "2023-04-13T15:08:46.470564",
     "exception": false,
     "start_time": "2023-04-13T15:08:46.440461",
     "status": "completed"
    },
    "tags": []
   },
   "outputs": [
    {
     "data": {
      "text/html": [
       "<div>\n",
       "<style scoped>\n",
       "    .dataframe tbody tr th:only-of-type {\n",
       "        vertical-align: middle;\n",
       "    }\n",
       "\n",
       "    .dataframe tbody tr th {\n",
       "        vertical-align: top;\n",
       "    }\n",
       "\n",
       "    .dataframe thead th {\n",
       "        text-align: right;\n",
       "    }\n",
       "</style>\n",
       "<table border=\"1\" class=\"dataframe\">\n",
       "  <thead>\n",
       "    <tr style=\"text-align: right;\">\n",
       "      <th></th>\n",
       "      <th>id</th>\n",
       "      <th>satisfaction</th>\n",
       "    </tr>\n",
       "  </thead>\n",
       "  <tbody>\n",
       "    <tr>\n",
       "      <th>0</th>\n",
       "      <td>1</td>\n",
       "      <td>0.003075</td>\n",
       "    </tr>\n",
       "    <tr>\n",
       "      <th>1</th>\n",
       "      <td>2</td>\n",
       "      <td>0.490267</td>\n",
       "    </tr>\n",
       "    <tr>\n",
       "      <th>2</th>\n",
       "      <td>3</td>\n",
       "      <td>0.998704</td>\n",
       "    </tr>\n",
       "    <tr>\n",
       "      <th>3</th>\n",
       "      <td>4</td>\n",
       "      <td>0.999754</td>\n",
       "    </tr>\n",
       "    <tr>\n",
       "      <th>4</th>\n",
       "      <td>5</td>\n",
       "      <td>0.438673</td>\n",
       "    </tr>\n",
       "    <tr>\n",
       "      <th>...</th>\n",
       "      <td>...</td>\n",
       "      <td>...</td>\n",
       "    </tr>\n",
       "    <tr>\n",
       "      <th>3995</th>\n",
       "      <td>3996</td>\n",
       "      <td>0.823827</td>\n",
       "    </tr>\n",
       "    <tr>\n",
       "      <th>3996</th>\n",
       "      <td>3997</td>\n",
       "      <td>0.001183</td>\n",
       "    </tr>\n",
       "    <tr>\n",
       "      <th>3997</th>\n",
       "      <td>3998</td>\n",
       "      <td>0.008299</td>\n",
       "    </tr>\n",
       "    <tr>\n",
       "      <th>3998</th>\n",
       "      <td>3999</td>\n",
       "      <td>0.991938</td>\n",
       "    </tr>\n",
       "    <tr>\n",
       "      <th>3999</th>\n",
       "      <td>4000</td>\n",
       "      <td>0.008586</td>\n",
       "    </tr>\n",
       "  </tbody>\n",
       "</table>\n",
       "<p>4000 rows × 2 columns</p>\n",
       "</div>"
      ],
      "text/plain": [
       "        id  satisfaction\n",
       "0        1      0.003075\n",
       "1        2      0.490267\n",
       "2        3      0.998704\n",
       "3        4      0.999754\n",
       "4        5      0.438673\n",
       "...    ...           ...\n",
       "3995  3996      0.823827\n",
       "3996  3997      0.001183\n",
       "3997  3998      0.008299\n",
       "3998  3999      0.991938\n",
       "3999  4000      0.008586\n",
       "\n",
       "[4000 rows x 2 columns]"
      ]
     },
     "execution_count": 21,
     "metadata": {},
     "output_type": "execute_result"
    }
   ],
   "source": [
    "sample_sub"
   ]
  },
  {
   "cell_type": "code",
   "execution_count": 22,
   "id": "259c4f13",
   "metadata": {
    "execution": {
     "iopub.execute_input": "2023-04-13T15:08:46.491285Z",
     "iopub.status.busy": "2023-04-13T15:08:46.490499Z",
     "iopub.status.idle": "2023-04-13T15:08:46.508094Z",
     "shell.execute_reply": "2023-04-13T15:08:46.506407Z"
    },
    "papermill": {
     "duration": 0.031371,
     "end_time": "2023-04-13T15:08:46.511182",
     "exception": false,
     "start_time": "2023-04-13T15:08:46.479811",
     "status": "completed"
    },
    "tags": []
   },
   "outputs": [],
   "source": [
    "sample_sub.to_csv('submission.csv', index=False)"
   ]
  },
  {
   "cell_type": "code",
   "execution_count": null,
   "id": "dc02f608",
   "metadata": {
    "papermill": {
     "duration": 0.008561,
     "end_time": "2023-04-13T15:08:46.528887",
     "exception": false,
     "start_time": "2023-04-13T15:08:46.520326",
     "status": "completed"
    },
    "tags": []
   },
   "outputs": [],
   "source": []
  }
 ],
 "metadata": {
  "kernelspec": {
   "display_name": "Python 3",
   "language": "python",
   "name": "python3"
  },
  "language_info": {
   "codemirror_mode": {
    "name": "ipython",
    "version": 3
   },
   "file_extension": ".py",
   "mimetype": "text/x-python",
   "name": "python",
   "nbconvert_exporter": "python",
   "pygments_lexer": "ipython3",
   "version": "3.7.12"
  },
  "papermill": {
   "default_parameters": {},
   "duration": 22.329839,
   "end_time": "2023-04-13T15:08:47.663160",
   "environment_variables": {},
   "exception": null,
   "input_path": "__notebook__.ipynb",
   "output_path": "__notebook__.ipynb",
   "parameters": {},
   "start_time": "2023-04-13T15:08:25.333321",
   "version": "2.4.0"
  }
 },
 "nbformat": 4,
 "nbformat_minor": 5
}
